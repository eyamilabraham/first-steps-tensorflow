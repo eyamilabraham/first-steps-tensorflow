{
  "nbformat": 4,
  "nbformat_minor": 0,
  "metadata": {
    "colab": {
      "name": "my first neural network",
      "provenance": [],
      "authorship_tag": "ABX9TyMotNHoC7ydt/6kZ+N40o1y",
      "include_colab_link": true
    },
    "kernelspec": {
      "name": "python3",
      "display_name": "Python 3"
    },
    "language_info": {
      "name": "python"
    }
  },
  "cells": [
    {
      "cell_type": "markdown",
      "metadata": {
        "id": "view-in-github",
        "colab_type": "text"
      },
      "source": [
        "<a href=\"https://colab.research.google.com/github/eyamilabraham/first-steps-tensorflow/blob/main/my_first_neural_network.ipynb\" target=\"_parent\"><img src=\"https://colab.research.google.com/assets/colab-badge.svg\" alt=\"Open In Colab\"/></a>"
      ]
    },
    {
      "cell_type": "code",
      "execution_count": 2,
      "metadata": {
        "id": "qi2T034KZAzw"
      },
      "outputs": [],
      "source": [
        "import tensorflow as tf\n",
        "import numpy as np"
      ]
    },
    {
      "cell_type": "code",
      "source": [
        "celsius = np.array([-40, -10, 0, 8, 15, 22, 38], dtype=float)\n",
        "fahrenheit = np.array([-40, 14, 32, 46, 59, 72, 100], dtype=float)"
      ],
      "metadata": {
        "id": "hPTICxgmZZhO"
      },
      "execution_count": 3,
      "outputs": []
    },
    {
      "cell_type": "code",
      "source": [
        "#layer = tf.keras.layers.Dense(units=1, input_shape=[1])\n",
        "#model = tf.keras.Sequential([layer])\n",
        "\n",
        "hidden1 = tf.keras.layers.Dense(units=3, input_shape=[1])\n",
        "hidden2 = tf.keras.layers.Dense(units=3)\n",
        "output = tf.keras.layers.Dense(units=1)\n",
        "model = tf.keras.Sequential([hidden1, hidden2, output])"
      ],
      "metadata": {
        "id": "tIlp8QNaaDg0"
      },
      "execution_count": 4,
      "outputs": []
    },
    {
      "cell_type": "code",
      "source": [
        "model.compile(\n",
        "    optimizer = tf.keras.optimizers.Adam(0.1),\n",
        "    loss='mean_squared_error'\n",
        ")"
      ],
      "metadata": {
        "id": "cSJrcyazaV1y"
      },
      "execution_count": 5,
      "outputs": []
    },
    {
      "cell_type": "code",
      "source": [
        "print(\"Starting training\")\n",
        "history = model.fit(celsius, fahrenheit, epochs=1000, verbose=False)\n",
        "print(\"Trained Model!\")"
      ],
      "metadata": {
        "colab": {
          "base_uri": "https://localhost:8080/"
        },
        "id": "4qlri90Manry",
        "outputId": "0ba8724d-afc1-4589-dddf-e48f1fc8533f"
      },
      "execution_count": 6,
      "outputs": [
        {
          "output_type": "stream",
          "name": "stdout",
          "text": [
            "Starting training\n",
            "Trained Model!\n"
          ]
        }
      ]
    },
    {
      "cell_type": "code",
      "source": [
        "import matplotlib.pyplot as plt\n",
        "plt.xlabel(\"# Epoc\")\n",
        "plt.ylabel(\"Loss Magnitude\")\n",
        "plt.plot(history.history[\"loss\"])"
      ],
      "metadata": {
        "colab": {
          "base_uri": "https://localhost:8080/",
          "height": 296
        },
        "id": "zM_AbenfelQa",
        "outputId": "831486a0-cc55-4528-d2ae-d94c83c44bca"
      },
      "execution_count": 7,
      "outputs": [
        {
          "output_type": "execute_result",
          "data": {
            "text/plain": [
              "[<matplotlib.lines.Line2D at 0x7f33ab81c090>]"
            ]
          },
          "metadata": {},
          "execution_count": 7
        },
        {
          "output_type": "display_data",
          "data": {
            "image/png": "[encoded data removed]",
            "text/plain": [
              "<Figure size 432x288 with 1 Axes>"
            ]
          },
          "metadata": {
            "needs_background": "light"
          }
        }
      ]
    },
    {
      "cell_type": "code",
      "source": [
        "print(\"Let do a prediction!\")\n",
        "result = model.predict([100.0])\n",
        "print(\"The result is \" + str(result) + \"fahrenheit!\")"
      ],
      "metadata": {
        "colab": {
          "base_uri": "https://localhost:8080/"
        },
        "id": "APfWASsHfPLy",
        "outputId": "42000adc-46a6-46e0-c05e-426ce7505168"
      },
      "execution_count": 8,
      "outputs": [
        {
          "output_type": "stream",
          "name": "stdout",
          "text": [
            "Let do a prediction!\n",
            "The result is [[211.74745]]fahrenheit!\n"
          ]
        }
      ]
    },
    {
      "cell_type": "code",
      "source": [
        "print(\"Internal variables of the model\")\n",
        "#print(layer.get_weights())\n",
        "print(hidden1.get_weights())\n",
        "print(hidden2.get_weights())\n",
        "print(output.get_weights())"
      ],
      "metadata": {
        "colab": {
          "base_uri": "https://localhost:8080/"
        },
        "id": "6CyDgwVzfuxQ",
        "outputId": "478f2681-c76b-4a4b-9e2d-169943a73b32"
      },
      "execution_count": 9,
      "outputs": [
        {
          "output_type": "stream",
          "name": "stdout",
          "text": [
            "Internal variables of the model\n",
            "[array([[-0.47030413, -0.04771386,  0.5651423 ]], dtype=float32), array([-3.9313607,  2.5108838,  4.9699445], dtype=float32)]\n",
            "[array([[-0.29197648, -0.02327659,  1.1690542 ],\n",
            "       [-0.45671463,  1.2054017 ,  0.46000496],\n",
            "       [-0.5648346 ,  0.8860524 , -1.2530417 ]], dtype=float32), array([-2.060467 ,  4.3312364, -3.457315 ], dtype=float32)]\n",
            "[array([[-0.1261276 ],\n",
            "       [ 1.193725  ],\n",
            "       [-0.96537656]], dtype=float32), array([4.51814], dtype=float32)]\n"
          ]
        }
      ]
    },
    {
      "cell_type": "code",
      "source": [
        ""
      ],
      "metadata": {
        "id": "tSTkNoKwk6gi"
      },
      "execution_count": null,
      "outputs": []
    }
  ]
}